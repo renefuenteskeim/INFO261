{
 "cells": [
  {
   "cell_type": "markdown",
   "metadata": {},
   "source": [
    "# Objetivos del notebook\n",
    "\n",
    "Las APIs Web son herramientas para hacer que la información y la funcionalidad de las aplicaciones sean accesibles a través de Internet. Los objetivos de este notebook consisten en:\n",
    "\n",
    "- Conocer qué es una API y cuándo se puede utilizar\n",
    "- Aprender a construir una API web que devuelva datos\n",
    "- Aprender algunos principios de buen diseño de API, aplicándolos a una API conectada a una base de datos\n"
   ]
  },
  {
   "cell_type": "markdown",
   "metadata": {},
   "source": [
    "# Instalación de Python y Flask\n",
    "\n",
    "Para este tutorial, necesitará Python 3.6 y la librería <i>Flask</i> (una librería Python que permite desarrollar aplicación web). Desde un terminal, instalar la librería <i>Flash</i> con el gestor de paquetes <code>pip</code>:\n",
    "\n",
    "<code>sudo python3.6 -m pip install flask</code>\n",
    "\n",
    "Una vez instalado <code>flask</code>, ejecutar el código siguiente para verificar que se instaló corectamente."
   ]
  },
  {
   "cell_type": "code",
   "execution_count": 1,
   "metadata": {},
   "outputs": [
    {
     "name": "stdout",
     "output_type": "stream",
     "text": [
      " * Serving Flask app \"__main__\" (lazy loading)\n",
      " * Environment: production\n",
      "   WARNING: Do not use the development server in a production environment.\n",
      "   Use a production WSGI server instead.\n",
      " * Debug mode: off\n"
     ]
    },
    {
     "ename": "OSError",
     "evalue": "[Errno 98] Address already in use",
     "output_type": "error",
     "traceback": [
      "\u001b[0;31m---------------------------------------------------------------------------\u001b[0m",
      "\u001b[0;31mOSError\u001b[0m                                   Traceback (most recent call last)",
      "\u001b[0;32m<ipython-input-1-c9536b904486>\u001b[0m in \u001b[0;36m<module>\u001b[0;34m()\u001b[0m\n\u001b[1;32m      7\u001b[0m \u001b[0;34m\u001b[0m\u001b[0m\n\u001b[1;32m      8\u001b[0m \u001b[0;32mif\u001b[0m \u001b[0m__name__\u001b[0m \u001b[0;34m==\u001b[0m \u001b[0;34m\"__main__\"\u001b[0m\u001b[0;34m:\u001b[0m\u001b[0;34m\u001b[0m\u001b[0m\n\u001b[0;32m----> 9\u001b[0;31m     \u001b[0mapp\u001b[0m\u001b[0;34m.\u001b[0m\u001b[0mrun\u001b[0m\u001b[0;34m(\u001b[0m\u001b[0mdebug\u001b[0m\u001b[0;34m=\u001b[0m\u001b[0;32mFalse\u001b[0m\u001b[0;34m,\u001b[0m\u001b[0mport\u001b[0m\u001b[0;34m=\u001b[0m\u001b[0;36m1234\u001b[0m\u001b[0;34m)\u001b[0m\u001b[0;34m\u001b[0m\u001b[0m\n\u001b[0m",
      "\u001b[0;32m/usr/local/lib/python3.6/dist-packages/flask/app.py\u001b[0m in \u001b[0;36mrun\u001b[0;34m(self, host, port, debug, load_dotenv, **options)\u001b[0m\n\u001b[1;32m    941\u001b[0m \u001b[0;34m\u001b[0m\u001b[0m\n\u001b[1;32m    942\u001b[0m         \u001b[0;32mtry\u001b[0m\u001b[0;34m:\u001b[0m\u001b[0;34m\u001b[0m\u001b[0m\n\u001b[0;32m--> 943\u001b[0;31m             \u001b[0mrun_simple\u001b[0m\u001b[0;34m(\u001b[0m\u001b[0mhost\u001b[0m\u001b[0;34m,\u001b[0m \u001b[0mport\u001b[0m\u001b[0;34m,\u001b[0m \u001b[0mself\u001b[0m\u001b[0;34m,\u001b[0m \u001b[0;34m**\u001b[0m\u001b[0moptions\u001b[0m\u001b[0;34m)\u001b[0m\u001b[0;34m\u001b[0m\u001b[0m\n\u001b[0m\u001b[1;32m    944\u001b[0m         \u001b[0;32mfinally\u001b[0m\u001b[0;34m:\u001b[0m\u001b[0;34m\u001b[0m\u001b[0m\n\u001b[1;32m    945\u001b[0m             \u001b[0;31m# reset the first request information if the development server\u001b[0m\u001b[0;34m\u001b[0m\u001b[0;34m\u001b[0m\u001b[0m\n",
      "\u001b[0;32m/usr/local/lib/python3.6/dist-packages/werkzeug/serving.py\u001b[0m in \u001b[0;36mrun_simple\u001b[0;34m(hostname, port, application, use_reloader, use_debugger, use_evalex, extra_files, reloader_interval, reloader_type, threaded, processes, request_handler, static_files, passthrough_errors, ssl_context)\u001b[0m\n\u001b[1;32m    812\u001b[0m                           reloader_type)\n\u001b[1;32m    813\u001b[0m     \u001b[0;32melse\u001b[0m\u001b[0;34m:\u001b[0m\u001b[0;34m\u001b[0m\u001b[0m\n\u001b[0;32m--> 814\u001b[0;31m         \u001b[0minner\u001b[0m\u001b[0;34m(\u001b[0m\u001b[0;34m)\u001b[0m\u001b[0;34m\u001b[0m\u001b[0m\n\u001b[0m\u001b[1;32m    815\u001b[0m \u001b[0;34m\u001b[0m\u001b[0m\n\u001b[1;32m    816\u001b[0m \u001b[0;34m\u001b[0m\u001b[0m\n",
      "\u001b[0;32m/usr/local/lib/python3.6/dist-packages/werkzeug/serving.py\u001b[0m in \u001b[0;36minner\u001b[0;34m()\u001b[0m\n\u001b[1;32m    772\u001b[0m                           \u001b[0mprocesses\u001b[0m\u001b[0;34m,\u001b[0m \u001b[0mrequest_handler\u001b[0m\u001b[0;34m,\u001b[0m\u001b[0;34m\u001b[0m\u001b[0m\n\u001b[1;32m    773\u001b[0m                           \u001b[0mpassthrough_errors\u001b[0m\u001b[0;34m,\u001b[0m \u001b[0mssl_context\u001b[0m\u001b[0;34m,\u001b[0m\u001b[0;34m\u001b[0m\u001b[0m\n\u001b[0;32m--> 774\u001b[0;31m                           fd=fd)\n\u001b[0m\u001b[1;32m    775\u001b[0m         \u001b[0;32mif\u001b[0m \u001b[0mfd\u001b[0m \u001b[0;32mis\u001b[0m \u001b[0;32mNone\u001b[0m\u001b[0;34m:\u001b[0m\u001b[0;34m\u001b[0m\u001b[0m\n\u001b[1;32m    776\u001b[0m             \u001b[0mlog_startup\u001b[0m\u001b[0;34m(\u001b[0m\u001b[0msrv\u001b[0m\u001b[0;34m.\u001b[0m\u001b[0msocket\u001b[0m\u001b[0;34m)\u001b[0m\u001b[0;34m\u001b[0m\u001b[0m\n",
      "\u001b[0;32m/usr/local/lib/python3.6/dist-packages/werkzeug/serving.py\u001b[0m in \u001b[0;36mmake_server\u001b[0;34m(host, port, app, threaded, processes, request_handler, passthrough_errors, ssl_context, fd)\u001b[0m\n\u001b[1;32m    658\u001b[0m     \u001b[0;32melif\u001b[0m \u001b[0mthreaded\u001b[0m\u001b[0;34m:\u001b[0m\u001b[0;34m\u001b[0m\u001b[0m\n\u001b[1;32m    659\u001b[0m         return ThreadedWSGIServer(host, port, app, request_handler,\n\u001b[0;32m--> 660\u001b[0;31m                                   passthrough_errors, ssl_context, fd=fd)\n\u001b[0m\u001b[1;32m    661\u001b[0m     \u001b[0;32melif\u001b[0m \u001b[0mprocesses\u001b[0m \u001b[0;34m>\u001b[0m \u001b[0;36m1\u001b[0m\u001b[0;34m:\u001b[0m\u001b[0;34m\u001b[0m\u001b[0m\n\u001b[1;32m    662\u001b[0m         return ForkingWSGIServer(host, port, app, processes, request_handler,\n",
      "\u001b[0;32m/usr/local/lib/python3.6/dist-packages/werkzeug/serving.py\u001b[0m in \u001b[0;36m__init__\u001b[0;34m(self, host, port, app, handler, passthrough_errors, ssl_context, fd)\u001b[0m\n\u001b[1;32m    575\u001b[0m             \u001b[0mport\u001b[0m \u001b[0;34m=\u001b[0m \u001b[0;36m0\u001b[0m\u001b[0;34m\u001b[0m\u001b[0m\n\u001b[1;32m    576\u001b[0m         HTTPServer.__init__(self, get_sockaddr(host, int(port),\n\u001b[0;32m--> 577\u001b[0;31m                                                self.address_family), handler)\n\u001b[0m\u001b[1;32m    578\u001b[0m         \u001b[0mself\u001b[0m\u001b[0;34m.\u001b[0m\u001b[0mapp\u001b[0m \u001b[0;34m=\u001b[0m \u001b[0mapp\u001b[0m\u001b[0;34m\u001b[0m\u001b[0m\n\u001b[1;32m    579\u001b[0m         \u001b[0mself\u001b[0m\u001b[0;34m.\u001b[0m\u001b[0mpassthrough_errors\u001b[0m \u001b[0;34m=\u001b[0m \u001b[0mpassthrough_errors\u001b[0m\u001b[0;34m\u001b[0m\u001b[0m\n",
      "\u001b[0;32m/usr/lib/python3.6/socketserver.py\u001b[0m in \u001b[0;36m__init__\u001b[0;34m(self, server_address, RequestHandlerClass, bind_and_activate)\u001b[0m\n\u001b[1;32m    451\u001b[0m         \u001b[0;32mif\u001b[0m \u001b[0mbind_and_activate\u001b[0m\u001b[0;34m:\u001b[0m\u001b[0;34m\u001b[0m\u001b[0m\n\u001b[1;32m    452\u001b[0m             \u001b[0;32mtry\u001b[0m\u001b[0;34m:\u001b[0m\u001b[0;34m\u001b[0m\u001b[0m\n\u001b[0;32m--> 453\u001b[0;31m                 \u001b[0mself\u001b[0m\u001b[0;34m.\u001b[0m\u001b[0mserver_bind\u001b[0m\u001b[0;34m(\u001b[0m\u001b[0;34m)\u001b[0m\u001b[0;34m\u001b[0m\u001b[0m\n\u001b[0m\u001b[1;32m    454\u001b[0m                 \u001b[0mself\u001b[0m\u001b[0;34m.\u001b[0m\u001b[0mserver_activate\u001b[0m\u001b[0;34m(\u001b[0m\u001b[0;34m)\u001b[0m\u001b[0;34m\u001b[0m\u001b[0m\n\u001b[1;32m    455\u001b[0m             \u001b[0;32mexcept\u001b[0m\u001b[0;34m:\u001b[0m\u001b[0;34m\u001b[0m\u001b[0m\n",
      "\u001b[0;32m/usr/lib/python3.6/http/server.py\u001b[0m in \u001b[0;36mserver_bind\u001b[0;34m(self)\u001b[0m\n\u001b[1;32m    134\u001b[0m     \u001b[0;32mdef\u001b[0m \u001b[0mserver_bind\u001b[0m\u001b[0;34m(\u001b[0m\u001b[0mself\u001b[0m\u001b[0;34m)\u001b[0m\u001b[0;34m:\u001b[0m\u001b[0;34m\u001b[0m\u001b[0m\n\u001b[1;32m    135\u001b[0m         \u001b[0;34m\"\"\"Override server_bind to store the server name.\"\"\"\u001b[0m\u001b[0;34m\u001b[0m\u001b[0m\n\u001b[0;32m--> 136\u001b[0;31m         \u001b[0msocketserver\u001b[0m\u001b[0;34m.\u001b[0m\u001b[0mTCPServer\u001b[0m\u001b[0;34m.\u001b[0m\u001b[0mserver_bind\u001b[0m\u001b[0;34m(\u001b[0m\u001b[0mself\u001b[0m\u001b[0;34m)\u001b[0m\u001b[0;34m\u001b[0m\u001b[0m\n\u001b[0m\u001b[1;32m    137\u001b[0m         \u001b[0mhost\u001b[0m\u001b[0;34m,\u001b[0m \u001b[0mport\u001b[0m \u001b[0;34m=\u001b[0m \u001b[0mself\u001b[0m\u001b[0;34m.\u001b[0m\u001b[0mserver_address\u001b[0m\u001b[0;34m[\u001b[0m\u001b[0;34m:\u001b[0m\u001b[0;36m2\u001b[0m\u001b[0;34m]\u001b[0m\u001b[0;34m\u001b[0m\u001b[0m\n\u001b[1;32m    138\u001b[0m         \u001b[0mself\u001b[0m\u001b[0;34m.\u001b[0m\u001b[0mserver_name\u001b[0m \u001b[0;34m=\u001b[0m \u001b[0msocket\u001b[0m\u001b[0;34m.\u001b[0m\u001b[0mgetfqdn\u001b[0m\u001b[0;34m(\u001b[0m\u001b[0mhost\u001b[0m\u001b[0;34m)\u001b[0m\u001b[0;34m\u001b[0m\u001b[0m\n",
      "\u001b[0;32m/usr/lib/python3.6/socketserver.py\u001b[0m in \u001b[0;36mserver_bind\u001b[0;34m(self)\u001b[0m\n\u001b[1;32m    465\u001b[0m         \u001b[0;32mif\u001b[0m \u001b[0mself\u001b[0m\u001b[0;34m.\u001b[0m\u001b[0mallow_reuse_address\u001b[0m\u001b[0;34m:\u001b[0m\u001b[0;34m\u001b[0m\u001b[0m\n\u001b[1;32m    466\u001b[0m             \u001b[0mself\u001b[0m\u001b[0;34m.\u001b[0m\u001b[0msocket\u001b[0m\u001b[0;34m.\u001b[0m\u001b[0msetsockopt\u001b[0m\u001b[0;34m(\u001b[0m\u001b[0msocket\u001b[0m\u001b[0;34m.\u001b[0m\u001b[0mSOL_SOCKET\u001b[0m\u001b[0;34m,\u001b[0m \u001b[0msocket\u001b[0m\u001b[0;34m.\u001b[0m\u001b[0mSO_REUSEADDR\u001b[0m\u001b[0;34m,\u001b[0m \u001b[0;36m1\u001b[0m\u001b[0;34m)\u001b[0m\u001b[0;34m\u001b[0m\u001b[0m\n\u001b[0;32m--> 467\u001b[0;31m         \u001b[0mself\u001b[0m\u001b[0;34m.\u001b[0m\u001b[0msocket\u001b[0m\u001b[0;34m.\u001b[0m\u001b[0mbind\u001b[0m\u001b[0;34m(\u001b[0m\u001b[0mself\u001b[0m\u001b[0;34m.\u001b[0m\u001b[0mserver_address\u001b[0m\u001b[0;34m)\u001b[0m\u001b[0;34m\u001b[0m\u001b[0m\n\u001b[0m\u001b[1;32m    468\u001b[0m         \u001b[0mself\u001b[0m\u001b[0;34m.\u001b[0m\u001b[0mserver_address\u001b[0m \u001b[0;34m=\u001b[0m \u001b[0mself\u001b[0m\u001b[0;34m.\u001b[0m\u001b[0msocket\u001b[0m\u001b[0;34m.\u001b[0m\u001b[0mgetsockname\u001b[0m\u001b[0;34m(\u001b[0m\u001b[0;34m)\u001b[0m\u001b[0;34m\u001b[0m\u001b[0m\n\u001b[1;32m    469\u001b[0m \u001b[0;34m\u001b[0m\u001b[0m\n",
      "\u001b[0;31mOSError\u001b[0m: [Errno 98] Address already in use"
     ]
    }
   ],
   "source": [
    "from flask import Flask\n",
    "app = Flask(__name__)\n",
    "\n",
    "@app.route(\"/\")\n",
    "def hello():\n",
    "    return \"<h1>¡Hola Mundo!</h1> <p>Bienvenido en nuestra aplicación web básica en Python</p>\"\n",
    "\n",
    "if __name__ == \"__main__\":\n",
    "    app.run(debug=False,port=1234)"
   ]
  },
  {
   "cell_type": "markdown",
   "metadata": {},
   "source": [
    "# ¿Qué es una API?\n",
    "\n",
    "Si ha escuchado el término API antes, es probable que se haya utilizado no para referirse a las API en general, sino a un tipo específico de API, la API web. Una API web permite que la información o funcionalidad sea manipulada por otros programas a través de Internet. Por ejemplo, con la API web de Twitter, puedes escribir un programa en un lenguaje como Python o Javascript que puede realizar tareas como favorecer tweets o recopilar metadatos de tweets.\n",
    "\n",
    "En la programación en general, el término API, abreviatura de <b>Application Programming Interface</b> (Interfaz de programación de aplicaciones), se refiere a una <b>parte de un programa diseñado para ser utilizado o manipulado por otro programa</b>, a diferencia de una interfaz diseñada para ser utilizada o manipulada por un ser humano. Los programas a menudo necesitan comunicarse entre sí o con el sistema operativo subyacente, y las API son una forma de hacerlo. En este tutorial, sin embargo, utilizaremos el término API para referirnos específicamente a las APIs web."
   ]
  },
  {
   "cell_type": "markdown",
   "metadata": {},
   "source": [
    "# Cuándo crear una API\n",
    "\n",
    "En general, considere crear una API si:\n",
    "\n",
    "- Su conjunto de datos es grande, lo que hace que la descarga sea difícil de manejar o requiera muchos recursos.\n",
    "- Sus usuarios necesitarán acceder a sus datos en tiempo real, por ejemplo para mostrarlos en otro sitio web o como parte de una aplicación.\n",
    "- Sus datos cambian o se actualizan con frecuencia.\n",
    "- Sus usuarios sólo necesitan acceder a una parte de los datos en un momento dado.\n",
    "- Los usuarios tendrán que realizar acciones distintas a la recuperación de datos, como contribuir, actualizar o eliminar datos.\n",
    "\n",
    "Si tiene datos que desea compartir con el mundo, una API es una forma de ponerlos en manos de otros. Sin embargo, las API no siempre son la mejor manera de compartir datos con los usuarios. Si el tamaño de los datos que está proporcionando es relativamente pequeño, puede proporcionar un <b>dump de datos</b> en forma de archivo descargable JSON, XML, CSV o SQLite. Dependiendo de sus recursos, este enfoque puede ser viable hasta un tamaño de descarga de unos pocos gigabytes.\n",
    "\n",
    "Recuerde que puede proporcionar tanto un dump de datos como una API, y los usuarios individuales pueden encontrar uno u otro que se adapte mejor a su caso de uso. La aplicación <a href=\"https://openlibrary.org/developers/api\">OpenLibrary</a>, por ejemplo, proporciona tanto un dump de datos como una API, cada una de las cuales sirve para diferentes casos de uso para diferentes usuarios."
   ]
  },
  {
   "cell_type": "markdown",
   "metadata": {},
   "source": [
    "# Terminología de la API\n",
    "\n",
    "Al utilizar o crear APIs, encontrará estos términos con frecuencia:\n",
    "\n",
    "- <b>HTTP</b> (Hypertext Transfer Protocol) es un protocolo que implementa una serie de \"métodos\" que permite manipular recursos (datos o aplicaciones) de un servidor desde un computador cliente. Los dos más comunes son GET, que extrae datos de un servidor, y POST, que empuja nuevos datos a un servidor.\n",
    "- <b>URL</b> (Uniform Resource Locator) - Una dirección para un recurso en la web.\n",
    "- <b>JSON</b> (JavaScript Object Notation) es un formato de almacenamiento de datos basado en texto que está diseñado para ser fácil de leer tanto para humanos como para máquinas. JSON es generalmente el formato más común para devolver datos a través de una API, siendo XML el segundo más común.\n",
    "- <b>REST</b> (REpresentational State Transfer) es una filosofía que describe algunas de las mejores prácticas para la implementación de APIs. Las APIs diseñadas teniendo en cuenta algunos o todos estos principios se denominan REST APIs. Aunque la API descrita en esta lección utiliza algunos principios de REST, existe un gran desacuerdo en torno a este término. Por esta razón, no describo las APIs de ejemplo aquí como APIs de REST, sino como APIs web o HTTP."
   ]
  },
  {
   "cell_type": "markdown",
   "metadata": {},
   "source": [
    "# Lo que los usuarios quieren en una API\n",
    "\n",
    "La documentación es el punto de partida de un usuario cuando trabaja con una nueva API, y las URL bien diseñadas facilitan a los usuarios la búsqueda intuitiva de recursos. <b>Dado que ayudan a los usuarios a acceder rápidamente a la información a través de su API, estos elementos (documentación y URL bien concebidas) son la condición sine qua non de una buena API.</b> Discutiremos estos elementos en mayor profundidad más adelante en este tutorial.\n",
    "\n",
    "A medida que utilice otras APIs en sus proyectos, desarrollará un sentido de lo que constituye una buena API desde la perspectiva de un usuario potencial. Del mismo modo que los lectores fuertes a menudo hacen escritores fuertes, el uso de APIs creadas por otros y la evaluación crítica de su implementación y documentación le ayudará a diseñar mejor sus propias APIs."
   ]
  },
  {
   "cell_type": "markdown",
   "metadata": {},
   "source": [
    "# Implementación de nuestra API\n",
    "## Visión general\n",
    "\n",
    "Esta sección le mostrará cómo construir un prototipo de API utilizando Python y la libreria de Flask. Nuestro API de ejemplo adoptará la forma de un archivo de lectura a distancia, un catálogo de libros que va más allá de la información bibliográfica estándar e incluye datos de interés para quienes trabajan en proyectos digitales. En este caso, además del título y la fecha de publicación, nuestra API también indicará la primera frase de cada libro. Estos datos deberían ser suficientes para permitirnos visualizar algunas preguntas potenciales de investigación sin abrumarnos mientras nos enfocamos en el diseño de nuestra API.\n",
    "\n",
    "Comenzaremos usando Flask para crear una página de inicio para nuestro sitio. En este paso, aprenderemos los conceptos básicos de cómo funciona Flask y nos aseguraremos de que nuestro software esté configurado correctamente. Una vez que tengamos una pequeña aplicación Flask trabajando en forma de página de inicio, la iteraremos en este sitio, convirtiéndola en una API funcional."
   ]
  },
  {
   "cell_type": "markdown",
   "metadata": {},
   "source": [
    "# Creación de una aplicación web básica con Flask\n",
    "\n",
    "Flask es un framework web para Python, lo que significa que proporciona funcionalidad para construir aplicaciones web, incluyendo la gestión de peticiones HTTP y plantillas de renderizado. En esta sección, crearemos una aplicación básica de Flask. En secciones posteriores, añadiremos a esta aplicación para crear nuestra API. No te preocupes si no entiendes cada línea de código individual todavía, las explicaciones se darán una vez que tengas esta versión inicial de la aplicación funcionando."
   ]
  },
  {
   "cell_type": "markdown",
   "metadata": {},
   "source": [
    "Primero, cree una nueva carpeta <code>api</code> en su carpeta <code>INFO261</code> que servirá como una carpeta de proyecto. Este tutorial asumirá que los archivos relacionados con este notebook se almacenarán en una carpeta llamada <code>api</code>."
   ]
  },
  {
   "cell_type": "markdown",
   "metadata": {},
   "source": [
    "Cuándo ejecutaron la primera celda de código de este notebook, deben tener un output similar a <code> * Running on http://127.0.0.1:1234/ (Press CTRL+C to quit)</code>\n",
    "\n",
    "También puede ver algunas líneas relacionadas con el <i>debugging</i>. Este mensaje significa que Flask está ejecutando su aplicación localmente (en su ordenador) en esa dirección. Siga el enlace anterior, http://127.0.0.1:1234/, utilizando su navegador web para ver la aplicación en ejecución. \n",
    "¡Felicitaciones, has creado una aplicación web que funciona!"
   ]
  },
  {
   "cell_type": "markdown",
   "metadata": {},
   "source": [
    "# Qué hace Flask\n",
    "\n",
    "Ahora que tenemos una página de inicio para nuestra aplicación, hablemos de cómo funciona Flask y qué está haciendo el código anterior.\n",
    "\n",
    "Flask asigna las peticiones HTTP a las funciones de Python. En este caso, hemos asignado una ruta URL ('/') a una función, <code>home</code>. Cuando nos conectamos al servidor Flask en http://127.0.0.1:1234/, Flask comprueba si hay una coincidencia entre la ruta proporcionada y una función definida. Puesto que /, o no se ha asignado ninguna ruta adicional, a la función de inicio, Flask ejecuta el código en la función y muestra el resultado devuelto en el navegador. En este caso, el resultado devuelto es un marcado HTML para una página de inicio que da la bienvenida a los visitantes al sitio que alberga nuestra futura API.\n",
    "\n",
    "El proceso de asignar URLs a funciones se llama <b>enrutamiento</b> (<i>routing</i>).\n"
   ]
  },
  {
   "cell_type": "code",
   "execution_count": null,
   "metadata": {},
   "outputs": [],
   "source": [
    "from flask import Flask\n",
    "app = Flask(__name__)\n",
    "\n",
    "@app.route(\"/\")\n",
    "def hello():\n",
    "    return \"<h1>¡Hola Mundo!</h1> <p>Bienvenido en nuestra aplicación web básica en Python</p>\"\n",
    "\n",
    "if __name__ == \"__main__\":\n",
    "    app.run(debug=False,port=1234)"
   ]
  },
  {
   "cell_type": "markdown",
   "metadata": {},
   "source": [
    "\n",
    "<code>@app.route('/', methods=['GET'])</code>: es la parte del programa que permite a Flask saber que esta función, home, debe ser asignada a la ruta /. La lista de métodos (methods=['GET']) es un argumento de palabra clave que permite a Flask saber qué tipo de peticiones HTTP están permitidas. Sólo usaremos peticiones GET en este tutorial, pero muchas aplicaciones web necesitan usar tanto peticiones GET (para enviar datos desde la aplicación al usuario) como peticiones POST (para recibir datos de un usuario)."
   ]
  },
  {
   "cell_type": "markdown",
   "metadata": {},
   "source": [
    "# Creación de la API\n",
    "\n",
    "Ahora que tenemos una aplicación Flask en ejecución y sabemos un poco sobre lo que hace Flask, finalmente estamos listos para implementar una pequeña API con datos que definiremos directamente en nuestra aplicación.\n",
    "\n",
    "Añadiremos nuestros datos como una lista de diccionarios Python. Diccionarios en pares de claves y valores del grupo Python, como este:"
   ]
  },
  {
   "cell_type": "raw",
   "metadata": {},
   "source": [
    "{\n",
    "    'key': 'value',\n",
    "    'key': 'value'\n",
    "}"
   ]
  },
  {
   "cell_type": "markdown",
   "metadata": {},
   "source": [
    "La clave identifica el tipo de información representada, como el título o el id. El valor son los datos reales. Por ejemplo, una guía telefónica corta podría tener este formato:"
   ]
  },
  {
   "cell_type": "raw",
   "metadata": {},
   "source": [
    "[\n",
    "    {\n",
    "        'name': 'Alexander Graham Bell',\n",
    "        'number': '1-333-444-5555'\n",
    "    },\n",
    "    {\n",
    "        'name': 'Thomas A. Watson',\n",
    "        'number': '1-444-555-6666'\n",
    "    }\n",
    "]"
   ]
  },
  {
   "cell_type": "markdown",
   "metadata": {},
   "source": [
    "La guía telefónica anterior es una lista de dos diccionarios. Cada diccionario es una entrada de la guía telefónica que consta de dos claves, nombre y número, cada una con un valor que proporciona la información real.\n",
    "\n",
    "Añadamos algunos datos (entradas en tres novelas de ciencia ficción) como una lista de diccionarios. Cada diccionario contendrá el número de identificación, título, autor, primera frase y año de publicación de cada libro. Finalmente, añadiremos una nueva función: una ruta que permitirá al visitante acceder a nuestros datos.\n",
    "\n",
    "<b>NB: Terminar el proceso de la aplicación web anterior, antes de ejecutar la nueva versión</b>"
   ]
  },
  {
   "cell_type": "code",
   "execution_count": null,
   "metadata": {},
   "outputs": [],
   "source": [
    "import flask\n",
    "from flask import request, jsonify\n",
    "\n",
    "app = flask.Flask(__name__)\n",
    "\n",
    "# Create some test data for our catalog in the form of a list of dictionaries.\n",
    "books = [\n",
    "    {'id': 0,\n",
    "     'title': 'A Fire Upon the Deep',\n",
    "     'author': 'Vernor Vinge',\n",
    "     'first_sentence': 'The coldsleep itself was dreamless.',\n",
    "     'year_published': '1992'},\n",
    "    {'id': 1,\n",
    "     'title': 'The Ones Who Walk Away From Omelas',\n",
    "     'author': 'Ursula K. Le Guin',\n",
    "     'first_sentence': 'With a clamor of bells that set the swallows soaring, the Festival of Summer came to the city Omelas, bright-towered by the sea.',\n",
    "     'published': '1973'},\n",
    "    {'id': 2,\n",
    "     'title': 'Dhalgren',\n",
    "     'author': 'Samuel R. Delany',\n",
    "     'first_sentence': 'to wound the autumnal city.',\n",
    "     'published': '1975'}\n",
    "]\n",
    "\n",
    "\n",
    "@app.route('/', methods=['GET'])\n",
    "def home():\n",
    "    return \"<h1>¡Hola Mundo!</h1> <p>Bienvenido en nuestra aplicación web básica en Python</p>\"\n",
    "\n",
    "# A route to return all of the available entries in our catalog.\n",
    "@app.route('/api/v1/resources/books/all', methods=['GET'])\n",
    "def api_all():\n",
    "    return jsonify(books)\n",
    "\n",
    "app.run(debug=False,port=1234)"
   ]
  },
  {
   "cell_type": "markdown",
   "metadata": {},
   "source": [
    "Una vez que el servidor esté funcionando, visite nuestra URL de la ruta para ver los datos en el catálogo:\n",
    "\n",
    "http://127.0.0.1:1234/api/v1/resources/books/all\n",
    "\n",
    "Debería ver la salida JSON de las tres entradas en nuestro catálogo de pruebas. Flask nos proporciona una función <code>jsonify</code> que nos permite convertir listas y diccionarios al formato JSON. En la ruta que creamos, nuestras entradas de libro se convierten de una lista de diccionarios Python a JSON antes de ser devueltas a un usuario.\n",
    "\n",
    "En este punto, ha creado una API que funciona, aunque limitada. En la siguiente sección, permitiremos a los usuarios encontrar libros a través de datos más específicos, como el ID de una entrada."
   ]
  },
  {
   "cell_type": "markdown",
   "metadata": {},
   "source": [
    "# Encontrar recursos específicos\n",
    "\n",
    "En este momento, los usuarios sólo pueden ver toda nuestra base de datos, no pueden filtrar ni encontrar recursos específicos. Si bien esto no es un problema con nuestro catálogo de pruebas, rápidamente se volverá menos útil a medida que agreguemos datos. En esta sección, añadiremos una función que permite a los usuarios filtrar los resultados devueltos mediante una petición más específica.\n",
    "\n",
    "A continuación se muestra el código de nuestra nueva aplicación con capacidad de filtrado. Como antes, examinaremos el código más cuidadosamente una vez que lo tenga en funcionamiento."
   ]
  },
  {
   "cell_type": "code",
   "execution_count": null,
   "metadata": {},
   "outputs": [],
   "source": [
    "import flask\n",
    "from flask import request, jsonify\n",
    "\n",
    "app = flask.Flask(__name__)\n",
    "\n",
    "# Create some test data for our catalog in the form of a list of dictionaries.\n",
    "books = [\n",
    "    {'id': 0,\n",
    "     'title': 'A Fire Upon the Deep',\n",
    "     'author': 'Vernor Vinge',\n",
    "     'first_sentence': 'The coldsleep itself was dreamless.',\n",
    "     'year_published': '1992'},\n",
    "    {'id': 1,\n",
    "     'title': 'The Ones Who Walk Away From Omelas',\n",
    "     'author': 'Ursula K. Le Guin',\n",
    "     'first_sentence': 'With a clamor of bells that set the swallows soaring, the Festival of Summer came to the city Omelas, bright-towered by the sea.',\n",
    "     'published': '1973'},\n",
    "    {'id': 2,\n",
    "     'title': 'Dhalgren',\n",
    "     'author': 'Samuel R. Delany',\n",
    "     'first_sentence': 'to wound the autumnal city.',\n",
    "     'published': '1975'}\n",
    "]\n",
    "\n",
    "\n",
    "@app.route('/', methods=['GET'])\n",
    "def home():\n",
    "    return '''<h1>Nuestra API: Open Books</h1>\n",
    "<p>Un prototipo de API para acceder a libros de ciencia ficción.</p>'''\n",
    "\n",
    "\n",
    "@app.route('/api/v1/resources/books/all', methods=['GET'])\n",
    "def api_all():\n",
    "    return jsonify(books)\n",
    "\n",
    "\n",
    "@app.route('/api/v1/resources/books', methods=['GET'])\n",
    "def api_id():\n",
    "    # Check if an ID was provided as part of the URL.\n",
    "    # If ID is provided, assign it to a variable.\n",
    "    # If no ID is provided, display an error in the browser.\n",
    "    if 'id' in request.args:\n",
    "        id = int(request.args['id'])\n",
    "    else:\n",
    "        return \"Error: No id field provided. Please specify an id.\"\n",
    "\n",
    "    # Create an empty list for our results\n",
    "    results = []\n",
    "\n",
    "    # Loop through the data and match results that fit the requested ID.\n",
    "    # IDs are unique, but other fields might return many results\n",
    "    for book in books:\n",
    "        if book['id'] == id:\n",
    "            results.append(book)\n",
    "\n",
    "    # Use the jsonify function from Flask to convert our list of\n",
    "    # Python dictionaries to the JSON format.\n",
    "    return jsonify(results)\n",
    "\n",
    "\n",
    "app.run(debug=False,port=1234)"
   ]
  },
  {
   "cell_type": "markdown",
   "metadata": {},
   "source": [
    "Visite las siguientes URLs para probar la nueva capacidad de su API:\n",
    "\n",
    "- http://127.0.0.1:1234/api/v1/resources/books?id=0\n",
    "- http://127.0.0.1:1234/api/v1/resources/books?id=1\n",
    "- http://127.0.0.1:1234/api/v1/resources/books?id=2\n",
    "- http://127.0.0.1:1234/api/v1/resources/books?id=3\n",
    "\n",
    "Cada uno de ellos debe devolver una entrada diferente, excepto el último, que debe devolver una lista vacía: [], ya que no hay ningún libro para el cual el valor de id sea 3. (El conteo en la programación típicamente comienza en 0, así que id=3 sería una petición para un cuarto ítem inexistente.\n",
    "\n",
    "Examine la URL proporcionada para una identificación y seleccione los libros que coincidan con esa identificación. La identificación debe ser proporcionada de esta manera: <code>?id=0</code>. Los datos pasados a través de URLs como ésta (después del ?) se llaman <b>parámetros de consulta</b>. Son una característica de HTTP utilizada para filtrar tipos específicos de datos."
   ]
  },
  {
   "cell_type": "markdown",
   "metadata": {},
   "source": [
    "# Principios de diseño de API\n",
    "\n",
    "Hasta ahora, hemos creado una API de trabajo con datos de prueba que hemos proporcionado directamente en nuestra aplicación. Nuestra próxima versión de nuestra API extraerá datos de una base de datos antes de proporcionárselos a un usuario. También tomará parámetros de consulta adicionales, permitiendo a los usuarios filtrar por campos que no sean ID.\n",
    "\n",
    "Antes de incluir más funcionalidad en nuestra aplicación, reflexionemos sobre algunas de las decisiones de diseño de API que hemos tomado hasta ahora. Dos aspectos de una buena API son la usabilidad y la mantenibilidad, y a medida que incorporemos más funcionalidad a nuestra API, tendremos en cuenta muchas de las siguientes consideraciones."
   ]
  },
  {
   "cell_type": "markdown",
   "metadata": {},
   "source": [
    "# Diseño de Solicitudes\n",
    "\n",
    "La filosofía de diseño predominante de las API modernas se llama REST. Para nuestros propósitos, lo más importante de REST es que se basa en los cuatro métodos definidos por el protocolo HTTP: POST, GET, PUT y DELETE. Estas corresponden a las cuatro acciones tradicionales realizadas sobre los datos de una base de datos: CREAR, LEER, ACTUALIZAR y BORRAR. En este tutorial, sólo nos ocuparemos de las peticiones GET, que corresponden a la lectura de una base de datos.\n",
    "\n",
    "Debido a que las peticiones HTTP son tan esenciales para el uso de una API de REST, muchos principios de diseño giran en torno a cómo se deben formatear las peticiones. Ya hemos creado una petición HTTP, que devuelve todos los libros proporcionados en nuestros datos de muestra. Para entender las consideraciones que entran en el formateo de esta solicitud, primero consideremos un ejemplo débil o mal diseñado de un punto final de la API:"
   ]
  },
  {
   "cell_type": "markdown",
   "metadata": {},
   "source": [
    "<code> http://api.example.com/getbook/10 </code>"
   ]
  },
  {
   "cell_type": "markdown",
   "metadata": {},
   "source": [
    "El formato de esta solicitud tiene varios problemas. El primero es semántico - en una API REST, nuestros verbos son típicamente GET, POST, PUT, o DELETE, y están determinados por el método de petición en lugar de por la URL de petición. Esto significa que la palabra \"get\" no debería aparecer en nuestra petición, ya que \"get\" está implícito en el hecho de que estamos usando un método HTTP GET. Además, las colecciones de recursos, como los libros o los usuarios, deben indicarse con sustantivos plurales. Esto deja claro cuando una API se refiere a una colección (libros) o una entrada (libro). Incorporando estos principios, nuestra API se vería así:"
   ]
  },
  {
   "cell_type": "markdown",
   "metadata": {},
   "source": [
    "<code>http://api.example.com/books/10</code>"
   ]
  },
  {
   "cell_type": "markdown",
   "metadata": {},
   "source": [
    "La solicitud anterior utiliza parte de la ruta (/10) para proporcionar el ID. Aunque este no es un enfoque poco común, es un algo inflexible: con las URL construidas de esta manera, por lo general sólo se puede filtrar por un campo a la vez. Los parámetros de consulta permiten filtrar por múltiples campos de base de datos y tienen más sentido cuando se proporcionan datos \"opcionales\", como un formato de salida:"
   ]
  },
  {
   "cell_type": "markdown",
   "metadata": {},
   "source": [
    "<code>http://api.example.com/books?author=Ursula+K.+LeGuin&published=1969&output=xml</code>"
   ]
  },
  {
   "cell_type": "markdown",
   "metadata": {},
   "source": [
    "Al diseñar cómo deben estructurarse las solicitudes a su API, también tiene sentido planificar las adiciones futuras. Incluso si la versión actual de su API sólo ofrece información sobre un tipo de recursos (por ejemplo, libros), tiene sentido planificar como si pudiera añadir otros recursos o funciones que no sean recursos a su API en el futuro:"
   ]
  },
  {
   "cell_type": "markdown",
   "metadata": {},
   "source": [
    "<code>http://api.example.com/resources/books?id=10</code>"
   ]
  },
  {
   "cell_type": "markdown",
   "metadata": {},
   "source": [
    "Agregar un segmento adicional en la ruta, como \"recursos\" o \"entradas\", le da la opción de permitir que los usuarios busquen en todos los recursos disponibles, lo que le facilita las solicitudes de soporte posteriores como éstas:"
   ]
  },
  {
   "cell_type": "markdown",
   "metadata": {},
   "source": [
    "<code>https://api.example.com/v1/resources/images?id=10</code>\n",
    "\n",
    "<code>https://api.example.com/v1/resources/all</code>"
   ]
  },
  {
   "cell_type": "markdown",
   "metadata": {},
   "source": [
    "Otra forma de planificar el futuro de su API es añadir un número de versión a la ruta. Esto significa que, en caso de que tenga que rediseñar su API, puede seguir soportando la versión antigua de la API con el número de versión antiguo mientras libera, por ejemplo, una segunda versión (v2) con funcionalidad mejorada o diferente. De esta manera, las aplicaciones y los scripts creados utilizando la versión antigua de su API no dejarán de funcionar después de la actualización.\n",
    "\n",
    "Después de incorporar estas mejoras de diseño, una solicitud a nuestra API podría verse así:"
   ]
  },
  {
   "cell_type": "markdown",
   "metadata": {},
   "source": [
    "<code>https://api.example.com/v1/resources/books?id=10</code>"
   ]
  },
  {
   "cell_type": "markdown",
   "metadata": {},
   "source": [
    "# Documentación y ejemplos\n",
    "\n",
    "Sin documentación, incluso la API mejor diseñada será inutilizable. Su API debe tener documentación que describa los recursos o la funcionalidad disponibles a través de su API que también proporcione ejemplos concretos de URL de solicitud o código para su API. Debe tener una sección para cada recurso que describa qué campos, como el id o el título, acepta. Cada sección debe tener un ejemplo en forma de una solicitud HTTP de ejemplo o un bloque de código."
   ]
  },
  {
   "cell_type": "markdown",
   "metadata": {},
   "source": [
    "Para obtener inspiración sobre cómo abordar la documentación de la API, consulte por ejemplo las API siguientes:\n",
    "\n",
    "- <a href=\"http://api.repo.nypl.org/\">New York Public Library Digital Collections API</a>\n",
    "- <a href=\"https://datahelpdesk.worldbank.org/knowledgebase/articles/889392-api-documentation\">World Bank API</a>\n",
    "- <a href=\"https://developer.nytimes.com/\">las APIS del New York Times</a>\n",
    "- <a href=\"https://pro.europeana.eu/resources/apis\">Europeana Pro API</a>"
   ]
  },
  {
   "cell_type": "markdown",
   "metadata": {},
   "source": [
    "# Conexión de nuestra API a una base de datos"
   ]
  },
  {
   "cell_type": "markdown",
   "metadata": {},
   "source": [
    "En el código siguiente, mostramos un ejemplo de cómo acceder a datos de la base de datos Sakila (NB: en teoría esta base de datos existe en su SGBD MySQL local) a través una API web."
   ]
  },
  {
   "cell_type": "code",
   "execution_count": null,
   "metadata": {},
   "outputs": [],
   "source": [
    "import flask\n",
    "import json\n",
    "from flask import request, jsonify\n",
    "import mysql.connector\n",
    "\n",
    "# Creación de una nueva aplicación web\n",
    "app = flask.Flask(__name__)\n",
    "\n",
    "# Conexión al SGBD\n",
    "  ## reemplazar 'root' por el password del usuario administrador de MySQL\n",
    "conn = mysql.connector.connect(user=\"root\",host=\"localhost\",password=\"22mmb6tn\")\n",
    "cursor = conn.cursor()\n",
    "cursor.execute(\"USE sakila\")\n",
    "\n",
    "# Definición de las rutas\n",
    "\n",
    "@app.route('/', methods=['GET'])\n",
    "def home():\n",
    "    return '''<h1>API Sakila</h1>\n",
    "<p>Un prototipo de API para la base de datos Sakila.</p>'''\n",
    "\n",
    "@app.errorhandler(404)\n",
    "def page_not_found(e):\n",
    "    return \"<h1>404</h1><p>The resource could not be found.</p>\", 404\n",
    "\n",
    "@app.route('/api_sakila/v1/resources/films/all', methods=['GET'])\n",
    "def api_all():\n",
    "    ## Consultar MySQL para obtener datos sobre las peliculas\n",
    "    result=cursor.execute('SELECT film_id,title,description,release_year,language_id FROM film;')\n",
    "    all_films =cursor.fetchall()\n",
    "    ## Conservar el nombre de los atributos\n",
    "    row_headers=[x[0] for x in cursor.description]\n",
    "    ## Transformar resultados en datos JSON\n",
    "    json_data=[]\n",
    "    for result in all_films:\n",
    "        json_data.append(dict(zip(row_headers,result)))\n",
    "    return jsonify(json_data)\n",
    "\n",
    "@app.route('/api_sakila/v1/resources/films', methods=['GET'])\n",
    "def api_filter():\n",
    "    ## Definir parametros posibles\n",
    "    query_parameters = request.args\n",
    "\n",
    "    release_year = query_parameters.get('release_year')\n",
    "    language_id = query_parameters.get('language_id')\n",
    "    \n",
    "    ##Construir la consulta SQL según parametros\n",
    "    query = \"SELECT film_id,title,description,release_year,language_id FROM film WHERE\"\n",
    "    to_filter = []\n",
    "\n",
    "    if release_year:\n",
    "        query += ' release_year=%s AND'\n",
    "        to_filter.append(release_year)\n",
    "    if language_id:\n",
    "        query+= ' language_id=%s AND'\n",
    "        to_filter.append(language_id)\n",
    "    if not (release_year):\n",
    "        return page_not_found(404)\n",
    "\n",
    "    query = query[:-4] + ';'\n",
    "    \n",
    "    print(query)\n",
    "    print(to_filter)\n",
    "    \n",
    "    ## Consultar\n",
    "    results=cursor.execute(query,to_filter)\n",
    "    some_films =cursor.fetchall()\n",
    "    ## Conservar el nombre de los atributos\n",
    "    row_headers=[x[0] for x in cursor.description]\n",
    "    ## Transformar resultados en datos JSON\n",
    "    json_data=[]\n",
    "    for result in some_films:\n",
    "        json_data.append(dict(zip(row_headers,result)))\n",
    "    return jsonify(json_data)\n",
    "\n",
    "app.run(debug=False,port=1234)\n"
   ]
  },
  {
   "cell_type": "markdown",
   "metadata": {},
   "source": [
    "- Probar los distintos puntos de acceso de su API desde su navegador"
   ]
  },
  {
   "cell_type": "markdown",
   "metadata": {},
   "source": [
    "# Recursos\n",
    "\n",
    "- Tutorial completo para desarrollar aplicaciones web con Flask: <a href=\"https://blog.miguelgrinberg.com/post/the-flask-mega-tutorial-part-i-hello-world\">The Flask Mega Tutorial</a>\n",
    "\n",
    "Algunas API abiertas bacanes:\n",
    "\n",
    "- <a href=\"https://core.ac.uk/\">Connecting Repositories (CORE) - A collection of open access articles from various sources hosted by the Open University.</a>\n",
    "\n",
    "- <a href=\"http://hds.essex.ac.uk/\">History Data Service (HDS) - A collection of data from a wide variety of historical sources.</a>\n",
    "\n",
    "- <a href=\"https://pro.europeana.eu/\">Europeana</a>\n",
    "\n",
    "- <a href=\"https://openlibrary.org/developers/api\">Open Library</a>\n",
    "\n",
    "- <a href=\"https://diggingintodata.org/repositories\">Digging into Data API List</a>\n",
    "\n"
   ]
  },
  {
   "cell_type": "markdown",
   "metadata": {},
   "source": [
    "# Ejercicio\n",
    "\n",
    "1) Diseñar una API a partir de un caso de uso que ustedes definen (por ejemplo, puede ser el caso de uso que han definido la semana pasada sobre el tema de SmartCity)\n",
    "\n",
    "2) Implementar su API\n",
    "\n",
    "3) ¿Cómo podrían desplegar su API más allá de su computador local?\n",
    "\n",
    "4) ¿Observan algunas limitaciones al momento de crear una API web basada en MySQL?\n",
    "\n",
    "5) ¿Qué es el movimiento de <i>Open Data</i>? ¿En qué sentido podría aportar a la ciudad de Valdivia?\n",
    "\n"
   ]
  },
  {
   "cell_type": "code",
   "execution_count": null,
   "metadata": {},
   "outputs": [],
   "source": [
    "#Ejercicio 1-2 \n",
    "#basado en la base de Datos de usuarios de Cortinajes ( visto en una asignatura de taller).\n",
    "\n",
    "\n",
    "\n",
    "import flask\n",
    "import json\n",
    "from flask import request, jsonify\n",
    "import mysql.connector\n",
    "\n",
    "# Creación de una nueva aplicación web\n",
    "app = flask.Flask(__name__)\n",
    "\n",
    "# Conexión al SGBD\n",
    "conn = mysql.connector.connect(user=\"root\",host=\"localhost\",password=\"22mmb6tn\")\n",
    "cursor = conn.cursor()\n",
    "cursor.execute(\"USE cortinaje\")\n",
    "\n",
    "# Definición de las rutas\n",
    "@app.route('/', methods=['GET'])\n",
    "def home():\n",
    "    return '''<h1>API Cortinaje </h1>\n",
    "<p>API para la base de datos de cortinaje.</p>'''\n",
    "\n",
    "@app.errorhandler(404)\n",
    "def page_not_found(e):\n",
    "    return \"<h1>404</h1><p>The resource could not be found.</p>\", 404\n",
    "\n",
    "@app.route('/api_cortinaje/v1/resources/nombre/all', methods=['GET'])\n",
    "def api_all():\n",
    "    ## Consultar MySQL para obtener datos sobre las entidades\n",
    "    result=cursor.execute('SELECT id, nombre, rut,edad FROM usuario;')\n",
    "    all_Nombre =cursor.fetchall()\n",
    "    ## Conservar el nombre de los atributos\n",
    "    row_headers=[x[0] for x in cursor.description]\n",
    "    ## Transformar resultados en datos JSON\n",
    "    json_data=[]\n",
    "    for result in all_Nombre:\n",
    "        json_data.append(dict(zip(row_headers,result)))\n",
    "    return jsonify(json_data)\n",
    "\n",
    "@app.route('/api_cortinaje/v1/resources/nombre', methods=['GET'])\n",
    "def api_filter():\n",
    "    ## Definir parametros posibles\n",
    "    query_parameters = request.args\n",
    "\n",
    "    id = query_parameters.get('id')\n",
    "    nombre = query_parameters.get('nombre')\n",
    "    rut = query_parameters.get('rut')\n",
    "    edad = query_parameters.get('edad')\n",
    "    \n",
    "    ##Construir la consulta SQL según parametros\n",
    "    query = \"SELECT id, nombre, rut, edad FROM usuario WHERE\"\n",
    "    to_filter = []\n",
    "\n",
    "    if id_jugador:\n",
    "        query += ' id=%s AND'\n",
    "        to_filter.append(id)\n",
    "    if nombre:\n",
    "        query+= ' nombre=%s AND'\n",
    "        to_filter.append(nombre)\n",
    "    if genero:\n",
    "        query+= ' rut=%s AND'\n",
    "        to_filter.append(rut)\n",
    "    if edad:\n",
    "        query+= ' edad=%s AND'\n",
    "        to_filter.append(edad)\n",
    "    if not (id or nombre or rut or edad):\n",
    "        return page_not_found(404)\n",
    "\n",
    "    query = query[:-4] + ';'\n",
    "    \n",
    "    print(query)\n",
    "    print(to_filter)\n",
    "    \n",
    "    ## Consultar\n",
    "    results=cursor.execute(query,to_filter)\n",
    "    algun_Jugador =cursor.fetchall()\n",
    "    ## Conservar el nombre de los atributos\n",
    "    row_headers=[x[0] for x in cursor.description]\n",
    "    ## Transformar resultados en datos JSON\n",
    "    json_data=[]\n",
    "    for result in algun_Usuario:\n",
    "        json_data.append(dict(zip(row_headers,result)))\n",
    "    return jsonify(json_data)\n",
    "\n",
    "app.run(debug=False,port=1234)\n",
    "\n",
    "\n"
   ]
  },
  {
   "cell_type": "code",
   "execution_count": null,
   "metadata": {},
   "outputs": [],
   "source": [
    "#ejercicio 3\n",
    "\n",
    "Se puede haciendo una modificación en el código, especificamente en la instrucción app.run(debug=False,port=1234),\n",
    "la cuál cuenta de la opcion \" host='' \", la que nos permite ingresar una \n",
    "IP donde se alojaría nuestra API ( por ejemplo host=\"192.168.1.3\"), en este caso, al no estar definido\n",
    "esto se utiliza la IP local 127.0.0.1.\n",
    "    \n",
    "Para poder acceder desde cualquier parte, se necesitaria una IP pública.\n"
   ]
  },
  {
   "cell_type": "code",
   "execution_count": null,
   "metadata": {},
   "outputs": [],
   "source": [
    "#ejercicio 4\n",
    "\n",
    "Creo que una de las limitaciones más \"facil\" de detectar es el tema cuando se intenta buscar ciertos datos en especificos,\n",
    "ya que al momento de hacer la consulta genera un poco de complejidad si el tipo de filtrado debe ser bien detallado,\n",
    "o en caso de querer hacer una relacion con mas tablas. \n"
   ]
  },
  {
   "cell_type": "code",
   "execution_count": null,
   "metadata": {},
   "outputs": [],
   "source": [
    "El concepto datos abiertos (\"open data\") es una filosofía y práctica que persigue que determinados tipos de datos\n",
    "estén disponibles de forma libre para todo el mundo, sin restricciones de derechos de autor, de patentes o de otros\n",
    "mecanismos de control. Tiene una ética similar a otros movimientos y comunidades abiertos, como el software libre,\n",
    "el código abierto (\"open source\") y el acceso libre (\"open access\").\n",
    "Son considerados datos abiertos todos aquellos datos accesibles y reutilizables, sin exigencia de permisos específicos.\n",
    "\n",
    "Esto beneficiaria demasiado a Valdivia, ya que como se esta implementando el concepto de \"Smart City\" en la ciudad\n",
    "aumentarian las investigaciones o soluciones que puedan mejorar la calidad de vida de las personas, incluso haria \n",
    "de la ciudad un lugar más conocido, logrando asi una reputación a nivel nacional mayor e incluso internacional."
   ]
  }
 ],
 "metadata": {
  "kernelspec": {
   "display_name": "Python 3",
   "language": "python",
   "name": "python3"
  },
  "language_info": {
   "codemirror_mode": {
    "name": "ipython",
    "version": 3
   },
   "file_extension": ".py",
   "mimetype": "text/x-python",
   "name": "python",
   "nbconvert_exporter": "python",
   "pygments_lexer": "ipython3",
   "version": "3.6.6"
  }
 },
 "nbformat": 4,
 "nbformat_minor": 2
}
